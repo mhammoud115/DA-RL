{
 "cells": [
  {
   "cell_type": "code",
   "execution_count": 1,
   "metadata": {},
   "outputs": [],
   "source": [
    "import gym\n",
    "import numpy as np\n",
    "import torch\n",
    "\n",
    "from stable_baselines3 import SAC, PPO, HerReplayBuffer\n",
    "from stable_baselines3.common.buffers import DictReplayBuffer\n",
    "from stable_baselines3.sac.policies import MlpPolicy\n",
    "from stable_baselines3.common.vec_env import DummyVecEnv, SubprocVecEnv, VecNormalize\n",
    "from stable_baselines3.common.env_util import make_vec_env\n",
    "from stable_baselines3.common.utils import set_random_seed\n",
    "from stable_baselines3.common.monitor import Monitor\n",
    "\n",
    "from stable_baselines3.common import results_plotter\n",
    "from stable_baselines3.common.results_plotter import load_results, ts2xy, plot_results\n",
    "from stable_baselines3.common.noise import NormalActionNoise\n",
    "from stable_baselines3.common.callbacks import BaseCallback\n",
    "\n",
    "import numpy as np\n",
    "import gym\n",
    "\n",
    "from Lorenz96_Env_ICs import Lorenz96Env\n",
    "from stable_baselines3 import PPO\n",
    "import time \n",
    "import matplotlib.pyplot as plt\n",
    "from typing import Callable\n",
    "\n",
    "import os\n",
    "os.environ[\"CUDA_DEVICE_ORDER\"]=\"PCI_BUS_ID\"   # see issue #152\n",
    "os.environ[\"CUDA_VISIBLE_DEVICES\"]=\"0\"\n",
    "\n",
    "from stable_baselines3.common.evaluation import evaluate_policy"
   ]
  },
  {
   "cell_type": "code",
   "execution_count": 2,
   "metadata": {},
   "outputs": [],
   "source": [
    "def make_env(env_id, rank, integ_step, noise, seed=0):\n",
    "    \"\"\"\n",
    "    Utility function for multiprocessed env.\n",
    "\n",
    "    :param env_id: (str) the environment ID\n",
    "    :param num_env: (int) the number of environments you wish to have in subprocesses\n",
    "    :param seed: (int) the inital seed for RNG\n",
    "    :param rank: (int) index of the subprocess\n",
    "    \"\"\"\n",
    "    def _init():\n",
    "        env = Lorenz96Env(integ_steps = integ_step)\n",
    "        env.seed(seed + rank)\n",
    "        return env\n",
    "    set_random_seed(seed+ rank)\n",
    "    return _init"
   ]
  },
  {
   "cell_type": "code",
   "execution_count": 3,
   "metadata": {},
   "outputs": [
    {
     "name": "stderr",
     "output_type": "stream",
     "text": [
      "/home/hammoumr/anaconda3/envs/sb3_v2/lib/python3.8/site-packages/gym/spaces/box.py:73: UserWarning: \u001b[33mWARN: Box bound precision lowered by casting to float32\u001b[0m\n",
      "  logger.warn(\n",
      "/home/hammoumr/anaconda3/envs/sb3_v2/lib/python3.8/site-packages/gym/spaces/box.py:73: UserWarning: \u001b[33mWARN: Box bound precision lowered by casting to float32\u001b[0m\n",
      "  logger.warn(\n",
      "/home/hammoumr/anaconda3/envs/sb3_v2/lib/python3.8/site-packages/gym/spaces/box.py:73: UserWarning: \u001b[33mWARN: Box bound precision lowered by casting to float32\u001b[0m\n",
      "  logger.warn(\n",
      "/home/hammoumr/anaconda3/envs/sb3_v2/lib/python3.8/site-packages/gym/spaces/box.py:73: UserWarning: \u001b[33mWARN: Box bound precision lowered by casting to float32\u001b[0m\n",
      "  logger.warn(\n",
      "/home/hammoumr/anaconda3/envs/sb3_v2/lib/python3.8/site-packages/gym/spaces/box.py:73: UserWarning: \u001b[33mWARN: Box bound precision lowered by casting to float32\u001b[0m\n",
      "  logger.warn(\n",
      "/home/hammoumr/anaconda3/envs/sb3_v2/lib/python3.8/site-packages/gym/spaces/box.py:73: UserWarning: \u001b[33mWARN: Box bound precision lowered by casting to float32\u001b[0m\n",
      "  logger.warn(\n",
      "/home/hammoumr/anaconda3/envs/sb3_v2/lib/python3.8/site-packages/gym/spaces/box.py:73: UserWarning: \u001b[33mWARN: Box bound precision lowered by casting to float32\u001b[0m\n",
      "  logger.warn(\n"
     ]
    }
   ],
   "source": [
    "num_cpu = 70  # Number of processes to use\n",
    "# Create the vectorized environment\n",
    "env = SubprocVecEnv([make_env('Lorenz', rank=i, integ_step=int(16), noise=1.0) for i in range(num_cpu)])\n",
    "env = VecNormalize(env, norm_obs=True, norm_reward=False)\n",
    "\n",
    "torch.backends.cudnn.benchmark = True\n",
    "\n",
    "neuron = 128\n",
    "lr = 0.001\n",
    "gamma = 0.1\n",
    "tSteps = 5000000\n",
    "bs = 100\n",
    "max_grad_norms = 0.8\n",
    "vf = 0.9\n"
   ]
  },
  {
   "cell_type": "code",
   "execution_count": 9,
   "metadata": {},
   "outputs": [],
   "source": [
    "# model = PPO.load('trainedModels_L96_assimSteps4_obsNosie1.0_ICs_v2/'+'neurons'+str(neuron)+'_LR'+str(lr)+'_Gamma'+str(gamma)+'_BS'+str(bs)+'_totSteps5000000_assimStep4_obsNosie1.0_maxgradnorm'+str(max_grad_norms)+'_vfcoeff'+str(vf)+'/'+'PPO_Lorenz96', env=env)\n",
    "model = PPO.load('trainedModels_L96_assimSteps4_obsNosie1.0_Markov1Step_TrueNorm/'+'neurons'+str(neuron)+'_LR'+str(lr)+'_Gamma'+str(gamma)+'_BS'+str(bs)+'_totSteps2500000_assimStep4_obsNosie1.0_maxgradnorm'+str(max_grad_norms)+'_vfcoeff'+str(vf)+'/'+'PPO_Lorenz96', env=env)\n",
    "obs = env.reset()\n",
    "\n",
    "solution = []\n",
    "ref_soln = []\n",
    "rewards_ = []\n",
    "\n",
    "for _ in range(int(5000)):\n",
    "    # action, _states = model.predict(obs, deterministic=True)\n",
    "    action, _states = model.predict(obs, deterministic=False)\n",
    "    obs, rewards, dones, info = env.step(action)\n",
    "    trueObs = env.get_original_obs()\n",
    "    trueRew = env.get_original_reward()\n",
    "    trueRef = env.env_method(\"_get_ref\", 1)\n",
    "\n",
    "    solution.append(trueObs)\n",
    "    ref_soln.append(trueRef)\n",
    "    rewards_.append(trueRew)\n",
    "\n",
    "sol2 = np.asarray(solution)\n",
    "solR = np.asarray(ref_soln)\n"
   ]
  },
  {
   "cell_type": "code",
   "execution_count": 10,
   "metadata": {},
   "outputs": [
    {
     "name": "stdout",
     "output_type": "stream",
     "text": [
      "[[0.74568405 0.65525098 0.7092883  ... 0.63594066 0.64378041 0.68935059]\n",
      " [1.11088758 1.00931081 1.03956205 ... 1.09380414 1.18763762 1.00070253]\n",
      " [1.2067625  1.25654814 1.16061601 ... 1.25964188 1.21356667 1.16395128]\n",
      " ...\n",
      " [0.90349129 0.9222238  0.91223809 ... 1.13836681 0.98805225 0.86195473]\n",
      " [0.89946007 0.92519884 0.96340338 ... 1.09322555 0.80148004 0.871584  ]\n",
      " [1.03513277 0.95967157 0.8470247  ... 1.05094144 0.77652433 0.86045048]]\n"
     ]
    }
   ],
   "source": [
    "\n",
    "counter = 0\n",
    "x = np.zeros((int(5000), 70, 40))\n",
    "xR = np.zeros((int(5000), 70, 40))\n",
    "RMSE  = np.zeros((int(5000), 70))\n",
    "RRMSE = np.zeros((int(5000), 70))\n",
    "\n",
    "x  = sol2[:, :, -40:]\n",
    "xR = solR[:, :, -40:]\n",
    "\n",
    "RMSE  = 0.85*np.sqrt(np.mean((x-xR)**2, axis=-1))\n",
    "RRMSE = RMSE / np.sqrt(np.mean((xR)**2, axis=-1))\n",
    "\n",
    "print(RRMSE)"
   ]
  },
  {
   "cell_type": "code",
   "execution_count": 11,
   "metadata": {},
   "outputs": [],
   "source": [
    "\n",
    "# plt.clf()\n",
    "# plt.figure(figsize=(12, 6))\n",
    "# fig1 = plt.gcf()\n",
    "\n",
    "# plt.subplot(1, 3, 2)\n",
    "# plt.plot(t1, x)  # Plot some data on the axes.\n",
    "# # plt.xlim((0, 1700))\n",
    "# plt.subplot(1, 3, 1)\n",
    "# plt.plot(t1, xR)  # Plot some data on the axes.\n",
    "# # plt.xlim((0, 1700))\n",
    "# plt.subplot(1, 3, 3)\n",
    "# plt.plot(t1, x-xR)  # Plot some data on the axes.\n",
    "# plt.show()\n"
   ]
  },
  {
   "cell_type": "code",
   "execution_count": 12,
   "metadata": {},
   "outputs": [],
   "source": [
    "\n",
    "# plt.clf()\n",
    "# plt.figure(figsize=(12, 6))\n",
    "# fig1 = plt.gcf()\n",
    "\n",
    "# plt.subplot(1, 3, 2)\n",
    "# plt.plot(t1, y)  # Plot some data on the axes.\n",
    "# # plt.xlim((0, 1700))\n",
    "# plt.subplot(1, 3, 1)\n",
    "# plt.plot(t1, yR)  # Plot some data on the axes.\n",
    "# # plt.xlim((0, 1700))\n",
    "# plt.subplot(1, 3, 3)\n",
    "# plt.plot(t1, y-yR)  # Plot some data on the axes.\n",
    "# plt.show()\n"
   ]
  },
  {
   "cell_type": "code",
   "execution_count": null,
   "metadata": {},
   "outputs": [],
   "source": []
  },
  {
   "cell_type": "code",
   "execution_count": 13,
   "metadata": {},
   "outputs": [
    {
     "name": "stderr",
     "output_type": "stream",
     "text": [
      "/data1/RL/test_recallWhatIdid/PerfectModels_testNoise/Full_MDP_allobserved/stable-baselines3/stable_baselines3/common/save_util.py:278: UserWarning: Path 'data_ev16/neurons128_LR0.001_Gamma0.1_BS100_totSteps5000000_assimStep50_obsNosie1.0_maxgradnorm0.8_vfcoeff0.9' does not exist. Will create it.\n",
      "  warnings.warn(f\"Path '{path.parent}' does not exist. Will create it.\")\n"
     ]
    }
   ],
   "source": [
    "model.save('data_ev16/'+'neurons'+str(neuron)+'_LR'+str(lr)+'_Gamma'+str(gamma)+'_BS'+str(bs)+'_totSteps'+str(tSteps)+'_assimStep50_obsNosie1.0_maxgradnorm'+str(max_grad_norms)+'_vfcoeff'+str(vf)+'/PPO_Gaussian_lossDifference_L96_fullObs_GaussianNoise_every50')\n",
    "\n",
    "np.savez('data_ev16/'+'neurons'+str(neuron)+'_LR'+str(lr)+'_Gamma'+str(gamma)+'_BS'+str(bs)+'_totSteps'+str(tSteps)+'_assimStep50_obsNosie1.0_maxgradnorm'+str(max_grad_norms)+'_vfcoeff'+str(vf)+'/sol2', sol2=sol2)\n",
    "np.savez('data_ev16/'+'neurons'+str(neuron)+'_LR'+str(lr)+'_Gamma'+str(gamma)+'_BS'+str(bs)+'_totSteps'+str(tSteps)+'_assimStep50_obsNosie1.0_maxgradnorm'+str(max_grad_norms)+'_vfcoeff'+str(vf)+'/solR', solR=solR)\n",
    "\n",
    "np.savez('data_ev16/'+'neurons'+str(neuron)+'_LR'+str(lr)+'_Gamma'+str(gamma)+'_BS'+str(bs)+'_totSteps'+str(tSteps)+'_assimStep50_obsNosie1.0_maxgradnorm'+str(max_grad_norms)+'_vfcoeff'+str(vf)+'/pred', x=x)\n",
    "np.savez('data_ev16/'+'neurons'+str(neuron)+'_LR'+str(lr)+'_Gamma'+str(gamma)+'_BS'+str(bs)+'_totSteps'+str(tSteps)+'_assimStep50_obsNosie1.0_maxgradnorm'+str(max_grad_norms)+'_vfcoeff'+str(vf)+'/ref',  xR=xR)\n"
   ]
  },
  {
   "cell_type": "code",
   "execution_count": null,
   "metadata": {},
   "outputs": [],
   "source": []
  }
 ],
 "metadata": {
  "kernelspec": {
   "display_name": "sb3_v2",
   "language": "python",
   "name": "python3"
  },
  "language_info": {
   "codemirror_mode": {
    "name": "ipython",
    "version": 3
   },
   "file_extension": ".py",
   "mimetype": "text/x-python",
   "name": "python",
   "nbconvert_exporter": "python",
   "pygments_lexer": "ipython3",
   "version": "3.8.16"
  }
 },
 "nbformat": 4,
 "nbformat_minor": 2
}
